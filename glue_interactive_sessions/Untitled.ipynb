{
 "cells": [
  {
   "cell_type": "code",
   "execution_count": 5,
   "id": "17f6ec64-ceaf-48f8-be68-07b88aafbb68",
   "metadata": {},
   "outputs": [
    {
     "name": "stdout",
     "output_type": "stream",
     "text": [
      "Welcome to the Glue Interactive Sessions Kernel\n",
      "For more information on available magic commands, please type %help in any new cell.\n",
      "\n",
      "Please view our Getting Started page to access the most up-to-date information on the Interactive Sessions kernel: https://docs.aws.amazon.com/glue/latest/dg/interactive-sessions.html\n",
      "Previous profile: None\n",
      "Setting new profile to: profile_for_article\n",
      "Current iam_role is None\n",
      "iam_role has been set to arn:aws:iam::405389362913:role/iamr-glueintsessionsdemo.\n",
      "Current idle_timeout is None minutes.\n",
      "idle_timeout has been set to 10 minutes.\n",
      "Previous number of workers: None\n",
      "Setting new number of workers to: 2\n"
     ]
    }
   ],
   "source": [
    "%profile profile_for_article\n",
    "%iam_role arn:aws:iam::405389362913:role/iamr-glueintsessionsdemo\n",
    "%idle_timeout 10\n",
    "%number_of_workers 2"
   ]
  }
 ],
 "metadata": {
  "kernelspec": {
   "display_name": "Glue PySpark",
   "language": "python",
   "name": "glue_pyspark"
  },
  "language_info": {
   "codemirror_mode": {
    "name": "python",
    "version": 3
   },
   "file_extension": ".py",
   "mimetype": "text/x-python",
   "name": "Python_Glue_Session",
   "pygments_lexer": "python3"
  }
 },
 "nbformat": 4,
 "nbformat_minor": 5
}
